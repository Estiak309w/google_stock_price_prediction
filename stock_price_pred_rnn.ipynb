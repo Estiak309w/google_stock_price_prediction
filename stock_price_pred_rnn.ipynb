{
 "cells": [
  {
   "cell_type": "code",
   "execution_count": 1,
   "metadata": {},
   "outputs": [],
   "source": [
    "# Importing the libraries\n",
    "import numpy as np\n",
    "import matplotlib.pyplot as plt\n",
    "import pandas as pd"
   ]
  },
  {
   "cell_type": "code",
   "execution_count": 2,
   "metadata": {},
   "outputs": [],
   "source": [
    "# Importing the training set\n",
    "dataset_train = pd.read_csv('Google_Stock_Price_Train.csv')\n",
    "training_set = dataset_train.iloc[:, 1:2].values"
   ]
  },
  {
   "cell_type": "code",
   "execution_count": 3,
   "metadata": {},
   "outputs": [],
   "source": [
    "# Feature Scaling\n",
    "from sklearn.preprocessing import MinMaxScaler\n",
    "sc = MinMaxScaler(feature_range = (0, 1))\n",
    "training_set_scaled = sc.fit_transform(training_set)"
   ]
  },
  {
   "cell_type": "code",
   "execution_count": 4,
   "metadata": {},
   "outputs": [],
   "source": [
    "# Creating a data structure with 60 timesteps and 1 output\n",
    "X_train = []\n",
    "y_train = []\n",
    "for i in range(60, 1258):\n",
    "    X_train.append(training_set_scaled[i-60:i, 0])\n",
    "    y_train.append(training_set_scaled[i, 0])\n",
    "X_train, y_train = np.array(X_train), np.array(y_train)\n",
    "\n",
    "# Reshaping\n",
    "X_train = np.reshape(X_train, (X_train.shape[0], X_train.shape[1], 1))"
   ]
  },
  {
   "cell_type": "code",
   "execution_count": 5,
   "metadata": {},
   "outputs": [
    {
     "name": "stderr",
     "output_type": "stream",
     "text": [
      "Using TensorFlow backend.\n"
     ]
    }
   ],
   "source": [
    "# Importing the Keras libraries and packages\n",
    "from keras.models import Sequential\n",
    "from keras.layers import Dense\n",
    "from keras.layers import LSTM\n",
    "from keras.layers import Dropout"
   ]
  },
  {
   "cell_type": "code",
   "execution_count": 6,
   "metadata": {},
   "outputs": [],
   "source": [
    "# Initialising the RNN\n",
    "regressor = Sequential()\n",
    "\n",
    "# Adding the first LSTM layer and some Dropout regularisation\n",
    "regressor.add(LSTM(units = 50, return_sequences = True, input_shape = (X_train.shape[1], 1)))\n",
    "regressor.add(Dropout(0.2))"
   ]
  },
  {
   "cell_type": "code",
   "execution_count": 7,
   "metadata": {},
   "outputs": [],
   "source": [
    "# Adding a second LSTM layer and some Dropout regularisation\n",
    "regressor.add(LSTM(units = 50, return_sequences = True))\n",
    "regressor.add(Dropout(0.2))\n",
    "\n",
    "# Adding a third LSTM layer and some Dropout regularisation\n",
    "regressor.add(LSTM(units = 50, return_sequences = True))\n",
    "regressor.add(Dropout(0.2))"
   ]
  },
  {
   "cell_type": "code",
   "execution_count": 8,
   "metadata": {},
   "outputs": [],
   "source": [
    "# Adding a fourth LSTM layer and some Dropout regularisation\n",
    "regressor.add(LSTM(units = 50))\n",
    "regressor.add(Dropout(0.2))\n",
    "\n",
    "# Adding the output layer\n",
    "regressor.add(Dense(units = 1))"
   ]
  },
  {
   "cell_type": "code",
   "execution_count": 9,
   "metadata": {},
   "outputs": [
    {
     "name": "stdout",
     "output_type": "stream",
     "text": [
      "Epoch 1/100\n",
      "1198/1198 [==============================] - 11s 9ms/step - loss: 0.0546\n",
      "Epoch 2/100\n",
      "1198/1198 [==============================] - 8s 7ms/step - loss: 0.0063\n",
      "Epoch 3/100\n",
      "1198/1198 [==============================] - 10s 8ms/step - loss: 0.0056\n",
      "Epoch 4/100\n",
      "1198/1198 [==============================] - 10s 8ms/step - loss: 0.0049\n",
      "Epoch 5/100\n",
      "1198/1198 [==============================] - 10s 8ms/step - loss: 0.0059\n",
      "Epoch 6/100\n",
      "1198/1198 [==============================] - 11s 9ms/step - loss: 0.0047\n",
      "Epoch 7/100\n",
      "1198/1198 [==============================] - 20s 17ms/step - loss: 0.0052\n",
      "Epoch 8/100\n",
      "1198/1198 [==============================] - 19s 16ms/step - loss: 0.0044\n",
      "Epoch 9/100\n",
      "1198/1198 [==============================] - 16s 14ms/step - loss: 0.0043\n",
      "Epoch 10/100\n",
      "1198/1198 [==============================] - 17s 14ms/step - loss: 0.0040\n",
      "Epoch 11/100\n",
      "1198/1198 [==============================] - 17s 15ms/step - loss: 0.0037\n",
      "Epoch 12/100\n",
      "1198/1198 [==============================] - 20s 17ms/step - loss: 0.0040\n",
      "Epoch 13/100\n",
      "1198/1198 [==============================] - 16s 14ms/step - loss: 0.0038\n",
      "Epoch 14/100\n",
      "1198/1198 [==============================] - 14s 12ms/step - loss: 0.0036\n",
      "Epoch 15/100\n",
      "1198/1198 [==============================] - 15s 12ms/step - loss: 0.0042\n",
      "Epoch 16/100\n",
      "1198/1198 [==============================] - 14s 12ms/step - loss: 0.0037\n",
      "Epoch 17/100\n",
      "1198/1198 [==============================] - 14s 12ms/step - loss: 0.0035\n",
      "Epoch 18/100\n",
      "1198/1198 [==============================] - 14s 12ms/step - loss: 0.0034\n",
      "Epoch 19/100\n",
      "1198/1198 [==============================] - 14s 12ms/step - loss: 0.0032\n",
      "Epoch 20/100\n",
      "1198/1198 [==============================] - 15s 12ms/step - loss: 0.0034\n",
      "Epoch 21/100\n",
      "1198/1198 [==============================] - 14s 12ms/step - loss: 0.0034\n",
      "Epoch 22/100\n",
      "1198/1198 [==============================] - 17s 14ms/step - loss: 0.0031\n",
      "Epoch 23/100\n",
      "1198/1198 [==============================] - 16s 14ms/step - loss: 0.0029\n",
      "Epoch 24/100\n",
      "1198/1198 [==============================] - 15s 12ms/step - loss: 0.0033\n",
      "Epoch 25/100\n",
      "1198/1198 [==============================] - 14s 12ms/step - loss: 0.0029\n",
      "Epoch 26/100\n",
      "1198/1198 [==============================] - 14s 11ms/step - loss: 0.0034\n",
      "Epoch 27/100\n",
      "1198/1198 [==============================] - 13s 11ms/step - loss: 0.0030\n",
      "Epoch 28/100\n",
      "1198/1198 [==============================] - 14s 11ms/step - loss: 0.0029\n",
      "Epoch 29/100\n",
      "1198/1198 [==============================] - 15s 12ms/step - loss: 0.0029\n",
      "Epoch 30/100\n",
      "1198/1198 [==============================] - 16s 14ms/step - loss: 0.0032\n",
      "Epoch 31/100\n",
      "1198/1198 [==============================] - 14s 11ms/step - loss: 0.0027\n",
      "Epoch 32/100\n",
      "1198/1198 [==============================] - 16s 13ms/step - loss: 0.0028\n",
      "Epoch 33/100\n",
      "1198/1198 [==============================] - 16s 13ms/step - loss: 0.0028\n",
      "Epoch 34/100\n",
      "1198/1198 [==============================] - 15s 13ms/step - loss: 0.0026\n",
      "Epoch 35/100\n",
      "1198/1198 [==============================] - 15s 12ms/step - loss: 0.0027\n",
      "Epoch 36/100\n",
      "1198/1198 [==============================] - 14s 12ms/step - loss: 0.0030\n",
      "Epoch 37/100\n",
      "1198/1198 [==============================] - 15s 12ms/step - loss: 0.0027\n",
      "Epoch 38/100\n",
      "1198/1198 [==============================] - 14s 12ms/step - loss: 0.0029\n",
      "Epoch 39/100\n",
      "1198/1198 [==============================] - 14s 12ms/step - loss: 0.0033\n",
      "Epoch 40/100\n",
      "1198/1198 [==============================] - 10s 9ms/step - loss: 0.0029\n",
      "Epoch 41/100\n",
      "1198/1198 [==============================] - 15s 12ms/step - loss: 0.0029\n",
      "Epoch 42/100\n",
      "1198/1198 [==============================] - 15s 12ms/step - loss: 0.0028\n",
      "Epoch 43/100\n",
      "1198/1198 [==============================] - 15s 12ms/step - loss: 0.0024\n",
      "Epoch 44/100\n",
      "1198/1198 [==============================] - 15s 12ms/step - loss: 0.0029\n",
      "Epoch 45/100\n",
      "1198/1198 [==============================] - 15s 13ms/step - loss: 0.0024\n",
      "Epoch 46/100\n",
      "1198/1198 [==============================] - 15s 13ms/step - loss: 0.0023\n",
      "Epoch 47/100\n",
      "1198/1198 [==============================] - 15s 12ms/step - loss: 0.0030\n",
      "Epoch 48/100\n",
      "1198/1198 [==============================] - 16s 13ms/step - loss: 0.0026\n",
      "Epoch 49/100\n",
      "1198/1198 [==============================] - 15s 13ms/step - loss: 0.0023\n",
      "Epoch 50/100\n",
      "1198/1198 [==============================] - 18s 15ms/step - loss: 0.0023\n",
      "Epoch 51/100\n",
      "1198/1198 [==============================] - 17s 14ms/step - loss: 0.0024\n",
      "Epoch 52/100\n",
      "1198/1198 [==============================] - 16s 14ms/step - loss: 0.0022\n",
      "Epoch 53/100\n",
      "1198/1198 [==============================] - 19s 16ms/step - loss: 0.0020\n",
      "Epoch 54/100\n",
      "1198/1198 [==============================] - 14s 12ms/step - loss: 0.0023\n",
      "Epoch 55/100\n",
      "1198/1198 [==============================] - 12s 10ms/step - loss: 0.0022\n",
      "Epoch 56/100\n",
      "1198/1198 [==============================] - 9s 7ms/step - loss: 0.0021\n",
      "Epoch 57/100\n",
      "1198/1198 [==============================] - 10s 9ms/step - loss: 0.0021\n",
      "Epoch 58/100\n",
      "1198/1198 [==============================] - 10s 9ms/step - loss: 0.0023\n",
      "Epoch 59/100\n",
      "1198/1198 [==============================] - 11s 9ms/step - loss: 0.0021\n",
      "Epoch 60/100\n",
      "1198/1198 [==============================] - 9s 7ms/step - loss: 0.0021\n",
      "Epoch 61/100\n",
      "1198/1198 [==============================] - 12s 10ms/step - loss: 0.0022\n",
      "Epoch 62/100\n",
      "1198/1198 [==============================] - 10s 9ms/step - loss: 0.0020\n",
      "Epoch 63/100\n",
      "1198/1198 [==============================] - 16s 13ms/step - loss: 0.0020\n",
      "Epoch 64/100\n",
      "1198/1198 [==============================] - 14s 12ms/step - loss: 0.0022\n",
      "Epoch 65/100\n",
      "1198/1198 [==============================] - 13s 11ms/step - loss: 0.0021\n",
      "Epoch 66/100\n",
      "1198/1198 [==============================] - 15s 13ms/step - loss: 0.0019\n",
      "Epoch 67/100\n",
      "1198/1198 [==============================] - 14s 12ms/step - loss: 0.0022\n",
      "Epoch 68/100\n",
      "1198/1198 [==============================] - 14s 11ms/step - loss: 0.0020\n",
      "Epoch 69/100\n",
      "1198/1198 [==============================] - 16s 14ms/step - loss: 0.0020\n",
      "Epoch 70/100\n",
      "1198/1198 [==============================] - 16s 13ms/step - loss: 0.0019\n",
      "Epoch 71/100\n",
      "1198/1198 [==============================] - 17s 14ms/step - loss: 0.0018\n",
      "Epoch 72/100\n",
      "1198/1198 [==============================] - 20s 16ms/step - loss: 0.0020\n",
      "Epoch 73/100\n",
      "1198/1198 [==============================] - 17s 14ms/step - loss: 0.0021\n",
      "Epoch 74/100\n",
      "1198/1198 [==============================] - 22s 18ms/step - loss: 0.0019\n",
      "Epoch 75/100\n",
      "1198/1198 [==============================] - 24s 20ms/step - loss: 0.0017\n",
      "Epoch 76/100\n",
      "1198/1198 [==============================] - 24s 20ms/step - loss: 0.0017\n",
      "Epoch 77/100\n",
      "1198/1198 [==============================] - 23s 19ms/step - loss: 0.0018\n",
      "Epoch 78/100\n",
      "1198/1198 [==============================] - 11s 9ms/step - loss: 0.0017\n",
      "Epoch 79/100\n",
      "1198/1198 [==============================] - 15s 12ms/step - loss: 0.0017\n",
      "Epoch 80/100\n",
      "1198/1198 [==============================] - 12s 10ms/step - loss: 0.0018\n",
      "Epoch 81/100\n",
      "1198/1198 [==============================] - 23s 20ms/step - loss: 0.0017\n",
      "Epoch 82/100\n",
      "1198/1198 [==============================] - 28s 23ms/step - loss: 0.0017\n",
      "Epoch 83/100\n",
      "1198/1198 [==============================] - 24s 20ms/step - loss: 0.0017\n",
      "Epoch 84/100\n",
      "1198/1198 [==============================] - 21s 18ms/step - loss: 0.0015\n",
      "Epoch 85/100\n",
      "1198/1198 [==============================] - 16s 13ms/step - loss: 0.0016\n",
      "Epoch 86/100\n",
      "1198/1198 [==============================] - 15s 12ms/step - loss: 0.0014\n",
      "Epoch 87/100\n",
      "1198/1198 [==============================] - 16s 14ms/step - loss: 0.0016\n",
      "Epoch 88/100\n",
      "1198/1198 [==============================] - 15s 12ms/step - loss: 0.0017\n",
      "Epoch 89/100\n",
      "1198/1198 [==============================] - 15s 13ms/step - loss: 0.0016\n",
      "Epoch 90/100\n",
      "1198/1198 [==============================] - 16s 13ms/step - loss: 0.0014\n",
      "Epoch 91/100\n",
      "1198/1198 [==============================] - 10s 9ms/step - loss: 0.0014\n",
      "Epoch 92/100\n",
      "1198/1198 [==============================] - 16s 13ms/step - loss: 0.0016\n",
      "Epoch 93/100\n",
      "1198/1198 [==============================] - 13s 11ms/step - loss: 0.0014\n",
      "Epoch 94/100\n",
      "1198/1198 [==============================] - 15s 13ms/step - loss: 0.0014\n",
      "Epoch 95/100\n"
     ]
    },
    {
     "name": "stdout",
     "output_type": "stream",
     "text": [
      "1198/1198 [==============================] - 14s 12ms/step - loss: 0.0015\n",
      "Epoch 96/100\n",
      "1198/1198 [==============================] - 14s 12ms/step - loss: 0.0014\n",
      "Epoch 97/100\n",
      "1198/1198 [==============================] - 14s 12ms/step - loss: 0.0016\n",
      "Epoch 98/100\n",
      "1198/1198 [==============================] - 14s 12ms/step - loss: 0.0015\n",
      "Epoch 99/100\n",
      "1198/1198 [==============================] - 15s 13ms/step - loss: 0.0015\n",
      "Epoch 100/100\n",
      "1198/1198 [==============================] - 15s 12ms/step - loss: 0.0015\n"
     ]
    },
    {
     "data": {
      "text/plain": [
       "<keras.callbacks.History at 0x1c0071cefd0>"
      ]
     },
     "execution_count": 9,
     "metadata": {},
     "output_type": "execute_result"
    }
   ],
   "source": [
    "# Compiling the RNN\n",
    "regressor.compile(optimizer = 'adam', loss = 'mean_squared_error')\n",
    "\n",
    "# Fitting the RNN to the Training set\n",
    "regressor.fit(X_train, y_train, epochs = 100, batch_size = 32)"
   ]
  },
  {
   "cell_type": "code",
   "execution_count": 10,
   "metadata": {},
   "outputs": [],
   "source": [
    "# Getting the real stock price of 2017\n",
    "dataset_test = pd.read_csv('Google_Stock_Price_Test.csv')\n",
    "real_stock_price = dataset_test.iloc[:, 1:2].values"
   ]
  },
  {
   "cell_type": "code",
   "execution_count": 11,
   "metadata": {},
   "outputs": [],
   "source": [
    "# Getting the predicted stock price of 2017\n",
    "dataset_total = pd.concat((dataset_train['Open'], dataset_test['Open']), axis = 0)\n",
    "inputs = dataset_total[len(dataset_total) - len(dataset_test) - 60:].values\n",
    "inputs = inputs.reshape(-1,1)\n",
    "inputs = sc.transform(inputs)\n",
    "X_test = []\n",
    "for i in range(60, 80):\n",
    "    X_test.append(inputs[i-60:i, 0])\n",
    "X_test = np.array(X_test)\n",
    "X_test = np.reshape(X_test, (X_test.shape[0], X_test.shape[1], 1))\n",
    "predicted_stock_price = regressor.predict(X_test)\n",
    "predicted_stock_price = sc.inverse_transform(predicted_stock_price)"
   ]
  },
  {
   "cell_type": "code",
   "execution_count": 12,
   "metadata": {},
   "outputs": [
    {
     "data": {
      "text/plain": [
       "Text(0, 0.5, 'Google Stock Price')"
      ]
     },
     "execution_count": 12,
     "metadata": {},
     "output_type": "execute_result"
    },
    {
     "data": {
      "image/png": "[encoded data removed]",
      "text/plain": [
       "<Figure size 432x288 with 1 Axes>"
      ]
     },
     "metadata": {
      "needs_background": "light"
     },
     "output_type": "display_data"
    }
   ],
   "source": [
    "# Visualising the results\n",
    "plt.plot(real_stock_price, color = 'red', label = 'Real Google Stock Price')\n",
    "plt.plot(predicted_stock_price, color = 'blue', label = 'Predicted Google Stock Price')\n",
    "plt.title('Google Stock Price Prediction')\n",
    "plt.xlabel('Time')\n",
    "plt.ylabel('Google Stock Price')"
   ]
  },
  {
   "cell_type": "code",
   "execution_count": 13,
   "metadata": {},
   "outputs": [],
   "source": [
    "import math\n",
    "from sklearn.metrics import mean_squared_error\n",
    "mse = math.sqrt(mean_squared_error(real_stock_price, predicted_stock_price))"
   ]
  },
  {
   "cell_type": "code",
   "execution_count": 14,
   "metadata": {},
   "outputs": [
    {
     "name": "stdout",
     "output_type": "stream",
     "text": [
      "0.03614724452625431\n"
     ]
    }
   ],
   "source": [
    "relative_error = mse/800\n",
    "print(relative_error)"
   ]
  },
  {
   "cell_type": "code",
   "execution_count": null,
   "metadata": {},
   "outputs": [],
   "source": []
  }
 ],
 "metadata": {
  "kernelspec": {
   "display_name": "Python 3",
   "language": "python",
   "name": "python3"
  },
  "language_info": {
   "codemirror_mode": {
    "name": "ipython",
    "version": 3
   },
   "file_extension": ".py",
   "mimetype": "text/x-python",
   "name": "python",
   "nbconvert_exporter": "python",
   "pygments_lexer": "ipython3",
   "version": "3.6.7"
  }
 },
 "nbformat": 4,
 "nbformat_minor": 2
}
